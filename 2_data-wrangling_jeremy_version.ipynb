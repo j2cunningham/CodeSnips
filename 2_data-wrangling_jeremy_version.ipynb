{
 "cells": [
  {
   "cell_type": "code",
   "execution_count": 74,
   "id": "9f08af11",
   "metadata": {},
   "outputs": [
    {
     "name": "stdout",
     "output_type": "stream",
     "text": [
      "Requirement already satisfied: tensorflow in /home/jeremy/anaconda3/lib/python3.8/site-packages (2.9.2)\n",
      "Requirement already satisfied: word2vec in /home/jeremy/anaconda3/lib/python3.8/site-packages (0.11.1)\n",
      "Requirement already satisfied: nbqa in /home/jeremy/anaconda3/lib/python3.8/site-packages (1.4.0)\n",
      "Requirement already satisfied: pylint in /home/jeremy/anaconda3/lib/python3.8/site-packages (2.7.4)\n",
      "Requirement already satisfied: ipython>=7.8.0 in /home/jeremy/anaconda3/lib/python3.8/site-packages (from nbqa) (7.22.0)\n",
      "Requirement already satisfied: tokenize-rt>=3.2.0 in /home/jeremy/anaconda3/lib/python3.8/site-packages (from nbqa) (4.2.1)\n",
      "Requirement already satisfied: tomli in /home/jeremy/anaconda3/lib/python3.8/site-packages (from nbqa) (2.0.1)\n",
      "Requirement already satisfied: setuptools>=18.5 in /home/jeremy/anaconda3/lib/python3.8/site-packages (from ipython>=7.8.0->nbqa) (52.0.0.post20210125)\n",
      "Requirement already satisfied: jedi>=0.16 in /home/jeremy/anaconda3/lib/python3.8/site-packages (from ipython>=7.8.0->nbqa) (0.17.2)\n",
      "Requirement already satisfied: traitlets>=4.2 in /home/jeremy/anaconda3/lib/python3.8/site-packages (from ipython>=7.8.0->nbqa) (5.0.5)\n",
      "Requirement already satisfied: prompt-toolkit!=3.0.0,!=3.0.1,<3.1.0,>=2.0.0 in /home/jeremy/anaconda3/lib/python3.8/site-packages (from ipython>=7.8.0->nbqa) (3.0.17)\n",
      "Requirement already satisfied: pygments in /home/jeremy/anaconda3/lib/python3.8/site-packages (from ipython>=7.8.0->nbqa) (2.8.1)\n",
      "Requirement already satisfied: decorator in /home/jeremy/anaconda3/lib/python3.8/site-packages (from ipython>=7.8.0->nbqa) (5.0.6)\n",
      "Requirement already satisfied: backcall in /home/jeremy/anaconda3/lib/python3.8/site-packages (from ipython>=7.8.0->nbqa) (0.2.0)\n",
      "Requirement already satisfied: pexpect>4.3 in /home/jeremy/anaconda3/lib/python3.8/site-packages (from ipython>=7.8.0->nbqa) (4.8.0)\n",
      "Requirement already satisfied: pickleshare in /home/jeremy/anaconda3/lib/python3.8/site-packages (from ipython>=7.8.0->nbqa) (0.7.5)\n",
      "Requirement already satisfied: parso<0.8.0,>=0.7.0 in /home/jeremy/anaconda3/lib/python3.8/site-packages (from jedi>=0.16->ipython>=7.8.0->nbqa) (0.7.0)\n",
      "Requirement already satisfied: ptyprocess>=0.5 in /home/jeremy/anaconda3/lib/python3.8/site-packages (from pexpect>4.3->ipython>=7.8.0->nbqa) (0.7.0)\n",
      "Requirement already satisfied: wcwidth in /home/jeremy/anaconda3/lib/python3.8/site-packages (from prompt-toolkit!=3.0.0,!=3.0.1,<3.1.0,>=2.0.0->ipython>=7.8.0->nbqa) (0.2.5)\n",
      "Requirement already satisfied: ipython-genutils in /home/jeremy/anaconda3/lib/python3.8/site-packages (from traitlets>=4.2->ipython>=7.8.0->nbqa) (0.2.0)\n",
      "Requirement already satisfied: mccabe<0.7,>=0.6 in /home/jeremy/anaconda3/lib/python3.8/site-packages (from pylint) (0.6.1)\n",
      "Requirement already satisfied: toml>=0.7.1 in /home/jeremy/anaconda3/lib/python3.8/site-packages (from pylint) (0.10.2)\n",
      "Requirement already satisfied: astroid<2.7,>=2.5.2 in /home/jeremy/anaconda3/lib/python3.8/site-packages (from pylint) (2.6.6)\n",
      "Requirement already satisfied: isort<6,>=4.2.5 in /home/jeremy/anaconda3/lib/python3.8/site-packages (from pylint) (5.8.0)\n",
      "Requirement already satisfied: lazy-object-proxy>=1.4.0 in /home/jeremy/anaconda3/lib/python3.8/site-packages (from astroid<2.7,>=2.5.2->pylint) (1.6.0)\n",
      "Requirement already satisfied: wrapt<1.13,>=1.11 in /home/jeremy/anaconda3/lib/python3.8/site-packages (from astroid<2.7,>=2.5.2->pylint) (1.12.1)\n",
      "Requirement already satisfied: numpy>=1.20 in /home/jeremy/anaconda3/lib/python3.8/site-packages (from tensorflow) (1.20.1)\n",
      "Requirement already satisfied: gast<=0.4.0,>=0.2.1 in /home/jeremy/anaconda3/lib/python3.8/site-packages (from tensorflow) (0.4.0)\n",
      "Requirement already satisfied: libclang>=13.0.0 in /home/jeremy/anaconda3/lib/python3.8/site-packages (from tensorflow) (14.0.6)\n",
      "Requirement already satisfied: tensorflow-estimator<2.10.0,>=2.9.0rc0 in /home/jeremy/anaconda3/lib/python3.8/site-packages (from tensorflow) (2.9.0)\n",
      "Requirement already satisfied: tensorboard<2.10,>=2.9 in /home/jeremy/anaconda3/lib/python3.8/site-packages (from tensorflow) (2.9.1)\n",
      "Requirement already satisfied: packaging in /home/jeremy/anaconda3/lib/python3.8/site-packages (from tensorflow) (20.9)\n",
      "Requirement already satisfied: astunparse>=1.6.0 in /home/jeremy/anaconda3/lib/python3.8/site-packages (from tensorflow) (1.6.3)\n",
      "Requirement already satisfied: absl-py>=1.0.0 in /home/jeremy/anaconda3/lib/python3.8/site-packages (from tensorflow) (1.2.0)\n",
      "Requirement already satisfied: protobuf<3.20,>=3.9.2 in /home/jeremy/anaconda3/lib/python3.8/site-packages (from tensorflow) (3.19.4)\n",
      "Requirement already satisfied: keras-preprocessing>=1.1.1 in /home/jeremy/anaconda3/lib/python3.8/site-packages (from tensorflow) (1.1.2)\n",
      "Requirement already satisfied: tensorflow-io-gcs-filesystem>=0.23.1 in /home/jeremy/anaconda3/lib/python3.8/site-packages (from tensorflow) (0.26.0)\n",
      "Requirement already satisfied: termcolor>=1.1.0 in /home/jeremy/anaconda3/lib/python3.8/site-packages (from tensorflow) (1.1.0)\n",
      "Requirement already satisfied: flatbuffers<2,>=1.12 in /home/jeremy/anaconda3/lib/python3.8/site-packages (from tensorflow) (1.12)\n",
      "Requirement already satisfied: typing-extensions>=3.6.6 in /home/jeremy/anaconda3/lib/python3.8/site-packages (from tensorflow) (3.7.4.3)\n",
      "Requirement already satisfied: opt-einsum>=2.3.2 in /home/jeremy/anaconda3/lib/python3.8/site-packages (from tensorflow) (3.3.0)\n",
      "Requirement already satisfied: keras<2.10.0,>=2.9.0rc0 in /home/jeremy/anaconda3/lib/python3.8/site-packages (from tensorflow) (2.9.0)\n",
      "Requirement already satisfied: grpcio<2.0,>=1.24.3 in /home/jeremy/anaconda3/lib/python3.8/site-packages (from tensorflow) (1.48.1)\n",
      "Requirement already satisfied: google-pasta>=0.1.1 in /home/jeremy/anaconda3/lib/python3.8/site-packages (from tensorflow) (0.2.0)\n",
      "Requirement already satisfied: h5py>=2.9.0 in /home/jeremy/anaconda3/lib/python3.8/site-packages (from tensorflow) (2.10.0)\n",
      "Requirement already satisfied: six>=1.12.0 in /home/jeremy/anaconda3/lib/python3.8/site-packages (from tensorflow) (1.15.0)\n",
      "Requirement already satisfied: wheel<1.0,>=0.23.0 in /home/jeremy/anaconda3/lib/python3.8/site-packages (from astunparse>=1.6.0->tensorflow) (0.36.2)\n",
      "Requirement already satisfied: tensorboard-plugin-wit>=1.6.0 in /home/jeremy/anaconda3/lib/python3.8/site-packages (from tensorboard<2.10,>=2.9->tensorflow) (1.8.1)\n",
      "Requirement already satisfied: requests<3,>=2.21.0 in /home/jeremy/anaconda3/lib/python3.8/site-packages (from tensorboard<2.10,>=2.9->tensorflow) (2.25.1)\n",
      "Requirement already satisfied: tensorboard-data-server<0.7.0,>=0.6.0 in /home/jeremy/anaconda3/lib/python3.8/site-packages (from tensorboard<2.10,>=2.9->tensorflow) (0.6.1)\n",
      "Requirement already satisfied: markdown>=2.6.8 in /home/jeremy/anaconda3/lib/python3.8/site-packages (from tensorboard<2.10,>=2.9->tensorflow) (3.4.1)\n",
      "Requirement already satisfied: google-auth-oauthlib<0.5,>=0.4.1 in /home/jeremy/anaconda3/lib/python3.8/site-packages (from tensorboard<2.10,>=2.9->tensorflow) (0.4.6)\n",
      "Requirement already satisfied: werkzeug>=1.0.1 in /home/jeremy/anaconda3/lib/python3.8/site-packages (from tensorboard<2.10,>=2.9->tensorflow) (1.0.1)\n",
      "Requirement already satisfied: google-auth<3,>=1.6.3 in /home/jeremy/anaconda3/lib/python3.8/site-packages (from tensorboard<2.10,>=2.9->tensorflow) (2.11.0)\n",
      "Requirement already satisfied: rsa<5,>=3.1.4 in /home/jeremy/anaconda3/lib/python3.8/site-packages (from google-auth<3,>=1.6.3->tensorboard<2.10,>=2.9->tensorflow) (4.9)\n",
      "Requirement already satisfied: cachetools<6.0,>=2.0.0 in /home/jeremy/anaconda3/lib/python3.8/site-packages (from google-auth<3,>=1.6.3->tensorboard<2.10,>=2.9->tensorflow) (5.2.0)\n",
      "Requirement already satisfied: pyasn1-modules>=0.2.1 in /home/jeremy/anaconda3/lib/python3.8/site-packages (from google-auth<3,>=1.6.3->tensorboard<2.10,>=2.9->tensorflow) (0.2.8)\n",
      "Requirement already satisfied: requests-oauthlib>=0.7.0 in /home/jeremy/anaconda3/lib/python3.8/site-packages (from google-auth-oauthlib<0.5,>=0.4.1->tensorboard<2.10,>=2.9->tensorflow) (1.3.1)\n",
      "Requirement already satisfied: importlib-metadata>=4.4 in /home/jeremy/anaconda3/lib/python3.8/site-packages (from markdown>=2.6.8->tensorboard<2.10,>=2.9->tensorflow) (4.12.0)\n",
      "Requirement already satisfied: zipp>=0.5 in /home/jeremy/anaconda3/lib/python3.8/site-packages (from importlib-metadata>=4.4->markdown>=2.6.8->tensorboard<2.10,>=2.9->tensorflow) (3.4.1)\n",
      "Requirement already satisfied: pyasn1<0.5.0,>=0.4.6 in /home/jeremy/anaconda3/lib/python3.8/site-packages (from pyasn1-modules>=0.2.1->google-auth<3,>=1.6.3->tensorboard<2.10,>=2.9->tensorflow) (0.4.8)\n",
      "Requirement already satisfied: urllib3<1.27,>=1.21.1 in /home/jeremy/anaconda3/lib/python3.8/site-packages (from requests<3,>=2.21.0->tensorboard<2.10,>=2.9->tensorflow) (1.26.4)\n",
      "Requirement already satisfied: certifi>=2017.4.17 in /home/jeremy/anaconda3/lib/python3.8/site-packages (from requests<3,>=2.21.0->tensorboard<2.10,>=2.9->tensorflow) (2020.12.5)\n",
      "Requirement already satisfied: chardet<5,>=3.0.2 in /home/jeremy/anaconda3/lib/python3.8/site-packages (from requests<3,>=2.21.0->tensorboard<2.10,>=2.9->tensorflow) (4.0.0)\n",
      "Requirement already satisfied: idna<3,>=2.5 in /home/jeremy/anaconda3/lib/python3.8/site-packages (from requests<3,>=2.21.0->tensorboard<2.10,>=2.9->tensorflow) (2.10)\n",
      "Requirement already satisfied: oauthlib>=3.0.0 in /home/jeremy/anaconda3/lib/python3.8/site-packages (from requests-oauthlib>=0.7.0->google-auth-oauthlib<0.5,>=0.4.1->tensorboard<2.10,>=2.9->tensorflow) (3.2.0)\n",
      "Requirement already satisfied: joblib in /home/jeremy/anaconda3/lib/python3.8/site-packages (from word2vec) (1.0.1)\n",
      "Requirement already satisfied: pyparsing>=2.0.2 in /home/jeremy/anaconda3/lib/python3.8/site-packages (from packaging->tensorflow) (2.4.7)\n"
     ]
    }
   ],
   "source": [
    "!pip install tensorflow word2vec nbqa pylint "
   ]
  },
  {
   "cell_type": "code",
   "execution_count": 2,
   "id": "10f492be",
   "metadata": {},
   "outputs": [
    {
     "name": "stderr",
     "output_type": "stream",
     "text": [
      "[nltk_data] Downloading package stopwords to /home/jeremy/nltk_data...\n",
      "[nltk_data]   Package stopwords is already up-to-date!\n"
     ]
    }
   ],
   "source": [
    "import spacy\n",
    "import pandas as pd\n",
    "import numpy as np\n",
    "import nltk\n",
    "nltk.download('stopwords')\n",
    "from nltk.tokenize.toktok import ToktokTokenizer\n",
    "import re\n",
    "from contractions import CONTRACTION_MAP\n",
    "#import unicodedata\n",
    "import matplotlib.pyplot as plt\n",
    "from gensim.utils import simple_preprocess\n",
    "from sklearn.model_selection import train_test_split\n",
    "# import gensim\n",
    "\n",
    "nlp = spacy.load(\"en_core_web_sm\")\n",
    "from tensorflow.keras.layers import Embedding\n",
    "from sklearn.metrics import classification_report\n",
    "\n",
    "tokenizer = ToktokTokenizer()\n",
    "stopword_list = nltk.corpus.stopwords.words('english')\n",
    "stopword_list.remove('no')\n",
    "stopword_list.remove('not')\n",
    "stopword_list.remove('up')\n",
    "stopword_list.remove('down')"
   ]
  },
  {
   "cell_type": "code",
   "execution_count": 3,
   "id": "11be96ef",
   "metadata": {},
   "outputs": [],
   "source": [
    "df = pd.read_csv('./data/all-data.csv', names = ['labels','messages'],encoding='ISO-8859-1')"
   ]
  },
  {
   "cell_type": "code",
   "execution_count": 4,
   "id": "943d30f6",
   "metadata": {
    "scrolled": true
   },
   "outputs": [
    {
     "data": {
      "text/html": [
       "<div>\n",
       "<style scoped>\n",
       "    .dataframe tbody tr th:only-of-type {\n",
       "        vertical-align: middle;\n",
       "    }\n",
       "\n",
       "    .dataframe tbody tr th {\n",
       "        vertical-align: top;\n",
       "    }\n",
       "\n",
       "    .dataframe thead th {\n",
       "        text-align: right;\n",
       "    }\n",
       "</style>\n",
       "<table border=\"1\" class=\"dataframe\">\n",
       "  <thead>\n",
       "    <tr style=\"text-align: right;\">\n",
       "      <th></th>\n",
       "      <th>labels</th>\n",
       "      <th>messages</th>\n",
       "    </tr>\n",
       "  </thead>\n",
       "  <tbody>\n",
       "    <tr>\n",
       "      <th>0</th>\n",
       "      <td>neutral</td>\n",
       "      <td>According to Gran , the company has no plans t...</td>\n",
       "    </tr>\n",
       "    <tr>\n",
       "      <th>1</th>\n",
       "      <td>neutral</td>\n",
       "      <td>Technopolis plans to develop in stages an area...</td>\n",
       "    </tr>\n",
       "    <tr>\n",
       "      <th>2</th>\n",
       "      <td>negative</td>\n",
       "      <td>The international electronic industry company ...</td>\n",
       "    </tr>\n",
       "    <tr>\n",
       "      <th>3</th>\n",
       "      <td>positive</td>\n",
       "      <td>With the new production plant the company woul...</td>\n",
       "    </tr>\n",
       "    <tr>\n",
       "      <th>4</th>\n",
       "      <td>positive</td>\n",
       "      <td>According to the company 's updated strategy f...</td>\n",
       "    </tr>\n",
       "  </tbody>\n",
       "</table>\n",
       "</div>"
      ],
      "text/plain": [
       "     labels                                           messages\n",
       "0   neutral  According to Gran , the company has no plans t...\n",
       "1   neutral  Technopolis plans to develop in stages an area...\n",
       "2  negative  The international electronic industry company ...\n",
       "3  positive  With the new production plant the company woul...\n",
       "4  positive  According to the company 's updated strategy f..."
      ]
     },
     "execution_count": 4,
     "metadata": {},
     "output_type": "execute_result"
    }
   ],
   "source": [
    "df.head()"
   ]
  },
  {
   "cell_type": "code",
   "execution_count": 5,
   "id": "6a820284",
   "metadata": {},
   "outputs": [
    {
     "data": {
      "image/png": "[encoded data removed]",
      "text/plain": [
       "<Figure size 432x288 with 1 Axes>"
      ]
     },
     "metadata": {
      "needs_background": "light"
     },
     "output_type": "display_data"
    }
   ],
   "source": [
    "df.groupby(['labels']).count().plot.bar()\n",
    "plt.ylabel(\"Count\")\n",
    "plt.xlabel(\"Sentiment\")\n",
    "plt.title(\"Sentiment distribution in df\")\n",
    "plt.show()"
   ]
  },
  {
   "cell_type": "code",
   "execution_count": 6,
   "id": "4d54f7cb",
   "metadata": {},
   "outputs": [
    {
     "data": {
      "text/plain": [
       "', , stopwords , computer not'"
      ]
     },
     "execution_count": 6,
     "metadata": {},
     "output_type": "execute_result"
    }
   ],
   "source": [
    "### remove stopwords\n",
    "\n",
    "def remove_stopwords(text, is_lower_case=False):\n",
    "    tokens = tokenizer.tokenize(text)\n",
    "    tokens = [token.strip() for token in tokens]\n",
    "    if is_lower_case:\n",
    "        filtered_tokens = [token for token in tokens if token not in stopword_list]\n",
    "    else:\n",
    "        filtered_tokens = [token for token in tokens if token.lower() not in stopword_list]\n",
    "    filtered_text = ' '.join(filtered_tokens)    \n",
    "    return filtered_text\n",
    "\n",
    "remove_stopwords(\"The, and, if are stopwords, computer is not\")"
   ]
  },
  {
   "cell_type": "code",
   "execution_count": 7,
   "id": "95d313b6",
   "metadata": {},
   "outputs": [
    {
     "data": {
      "text/plain": [
       "'You all cannot expand contractions I would think'"
      ]
     },
     "execution_count": 7,
     "metadata": {},
     "output_type": "execute_result"
    }
   ],
   "source": [
    "def expand_contractions(text, contraction_mapping=CONTRACTION_MAP):\n",
    "    \n",
    "    contractions_pattern = re.compile('({})'.format('|'.join(contraction_mapping.keys())), \n",
    "                                      flags=re.IGNORECASE|re.DOTALL)\n",
    "    def expand_match(contraction):\n",
    "        match = contraction.group(0)\n",
    "        first_char = match[0]\n",
    "        expanded_contraction = contraction_mapping.get(match)\\\n",
    "                                if contraction_mapping.get(match)\\\n",
    "                                else contraction_mapping.get(match.lower())                       \n",
    "        expanded_contraction = first_char+expanded_contraction[1:]\n",
    "        return expanded_contraction\n",
    "        \n",
    "    expanded_text = contractions_pattern.sub(expand_match, text)\n",
    "    expanded_text = re.sub(\"'\", \"\", expanded_text)\n",
    "    return expanded_text\n",
    "\n",
    "expand_contractions(\"Y'all can't expand contractions I'd think\")"
   ]
  },
  {
   "cell_type": "code",
   "execution_count": 8,
   "id": "994a5e5f",
   "metadata": {},
   "outputs": [
    {
     "data": {
      "text/plain": [
       "'return book be something I remain think about'"
      ]
     },
     "execution_count": 8,
     "metadata": {},
     "output_type": "execute_result"
    }
   ],
   "source": [
    "def lemmatize_text(text):\n",
    "    text = nlp(text)\n",
    "    text = ' '.join([word.lemma_ if word.lemma_ != '-PRON-' else word.text for word in text])\n",
    "    return text\n",
    "\n",
    "lemmatize_text(\"Returning books is something I remain thinking about\") #odd sentence, I know"
   ]
  },
  {
   "cell_type": "code",
   "execution_count": 9,
   "id": "5c14a996",
   "metadata": {},
   "outputs": [],
   "source": [
    "def normalize_text(text):\n",
    "    exp = expand_contractions(text)\n",
    "    low = exp.lower()\n",
    "    lemm = lemmatize_text(low)\n",
    "    no_sw = remove_stopwords(lemm)\n",
    "    return simple_preprocess(no_sw)"
   ]
  },
  {
   "cell_type": "code",
   "execution_count": 10,
   "id": "d10b3598",
   "metadata": {},
   "outputs": [],
   "source": [
    "#### text preprocess:\n",
    "\n",
    "df['messages'] = [normalize_text(row) for row in df['messages']]"
   ]
  },
  {
   "cell_type": "code",
   "execution_count": 11,
   "id": "d9e4a4da",
   "metadata": {},
   "outputs": [
    {
     "data": {
      "text/plain": [
       "['accord', 'gran', 'company']"
      ]
     },
     "execution_count": 11,
     "metadata": {},
     "output_type": "execute_result"
    }
   ],
   "source": [
    "df.iloc[0]['messages'][:3]"
   ]
  },
  {
   "cell_type": "code",
   "execution_count": 12,
   "id": "ea4ed9b5",
   "metadata": {},
   "outputs": [],
   "source": [
    "### map sentiment to int:\n",
    "\n",
    "def map_sentiment(sentiment):\n",
    "    if sentiment == 'negative':\n",
    "        return 0\n",
    "    elif sentiment == 'neutral':\n",
    "        return 1\n",
    "    else:\n",
    "        return 2"
   ]
  },
  {
   "cell_type": "code",
   "execution_count": 13,
   "id": "357b9f67",
   "metadata": {},
   "outputs": [],
   "source": [
    "df['labels'] = [map_sentiment(row) for row in df['labels']]"
   ]
  },
  {
   "cell_type": "code",
   "execution_count": 14,
   "id": "290c2f00",
   "metadata": {},
   "outputs": [
    {
     "data": {
      "text/plain": [
       "0    1\n",
       "1    1\n",
       "2    0\n",
       "Name: labels, dtype: int64"
      ]
     },
     "execution_count": 14,
     "metadata": {},
     "output_type": "execute_result"
    }
   ],
   "source": [
    "df['labels'].head(3)"
   ]
  },
  {
   "cell_type": "code",
   "execution_count": 15,
   "id": "fffe01e1",
   "metadata": {},
   "outputs": [
    {
     "name": "stdout",
     "output_type": "stream",
     "text": [
      "Number of rows per sentiment:\n",
      "1    2879\n",
      "2    1363\n",
      "0     604\n",
      "Name: labels, dtype: int64\n"
     ]
    },
    {
     "data": {
      "image/png": "[encoded data removed]",
      "text/plain": [
       "<Figure size 432x288 with 1 Axes>"
      ]
     },
     "metadata": {
      "needs_background": "light"
     },
     "output_type": "display_data"
    }
   ],
   "source": [
    "print(\"Number of rows per sentiment:\")\n",
    "print(df['labels'].value_counts())\n",
    "\n",
    "plt.figure()\n",
    "pd.value_counts(df['labels']).plot.bar(title=\"Sentiment distribution in df\")\n",
    "plt.xlabel(\"Sentiment\")\n",
    "plt.ylabel(\"No. of rows in df\")\n",
    "plt.show()"
   ]
  },
  {
   "cell_type": "code",
   "execution_count": 16,
   "id": "834c6d48",
   "metadata": {},
   "outputs": [],
   "source": [
    "df.to_csv('preprocessed-text.csv', sep = ',')"
   ]
  },
  {
   "cell_type": "code",
   "execution_count": 17,
   "id": "0fa1350f",
   "metadata": {},
   "outputs": [],
   "source": [
    "# prep for word2vec generation"
   ]
  },
  {
   "cell_type": "code",
   "execution_count": 18,
   "id": "349c461e",
   "metadata": {},
   "outputs": [
    {
     "data": {
      "text/html": [
       "<div>\n",
       "<style scoped>\n",
       "    .dataframe tbody tr th:only-of-type {\n",
       "        vertical-align: middle;\n",
       "    }\n",
       "\n",
       "    .dataframe tbody tr th {\n",
       "        vertical-align: top;\n",
       "    }\n",
       "\n",
       "    .dataframe thead th {\n",
       "        text-align: right;\n",
       "    }\n",
       "</style>\n",
       "<table border=\"1\" class=\"dataframe\">\n",
       "  <thead>\n",
       "    <tr style=\"text-align: right;\">\n",
       "      <th></th>\n",
       "      <th>messages</th>\n",
       "    </tr>\n",
       "  </thead>\n",
       "  <tbody>\n",
       "    <tr>\n",
       "      <th>0</th>\n",
       "      <td>[accord, gran, company, no, plan, move, produc...</td>\n",
       "    </tr>\n",
       "    <tr>\n",
       "      <th>1</th>\n",
       "      <td>[technopoli, plan, develop, stage, area, no, l...</td>\n",
       "    </tr>\n",
       "    <tr>\n",
       "      <th>2</th>\n",
       "      <td>[international, electronic, industry, company,...</td>\n",
       "    </tr>\n",
       "    <tr>\n",
       "      <th>3</th>\n",
       "      <td>[new, production, plant, company, would, incre...</td>\n",
       "    </tr>\n",
       "    <tr>\n",
       "      <th>4</th>\n",
       "      <td>[accord, company, update, strategy, year, basw...</td>\n",
       "    </tr>\n",
       "  </tbody>\n",
       "</table>\n",
       "</div>"
      ],
      "text/plain": [
       "                                            messages\n",
       "0  [accord, gran, company, no, plan, move, produc...\n",
       "1  [technopoli, plan, develop, stage, area, no, l...\n",
       "2  [international, electronic, industry, company,...\n",
       "3  [new, production, plant, company, would, incre...\n",
       "4  [accord, company, update, strategy, year, basw..."
      ]
     },
     "execution_count": 18,
     "metadata": {},
     "output_type": "execute_result"
    }
   ],
   "source": [
    "df[['messages']].head()"
   ]
  },
  {
   "cell_type": "code",
   "execution_count": 19,
   "id": "ce8acabc",
   "metadata": {},
   "outputs": [],
   "source": [
    "corpus = pd.Series(df['messages'].values)"
   ]
  },
  {
   "cell_type": "code",
   "execution_count": 20,
   "id": "2875fc92",
   "metadata": {
    "scrolled": true
   },
   "outputs": [],
   "source": [
    "from gensim.models import Word2Vec"
   ]
  },
  {
   "cell_type": "code",
   "execution_count": 21,
   "id": "29599bef",
   "metadata": {},
   "outputs": [],
   "source": [
    "# init word2vec class\n",
    "w2v_model = Word2Vec(corpus,\n",
    "                     vector_size=300, # 300 dimension vector\n",
    "                     window=15, # how many neighbors around a particular word\n",
    "                     min_count=2, # the word needs to appear at least two times in the corpus\n",
    "                     workers=20, # speed of training\n",
    "                     sg=1, # sg=1 means this is a skip-gram model\n",
    "                     negative=5, # num of negative samples\n",
    "                     sample=1e-5) # sampling rate"
   ]
  },
  {
   "cell_type": "code",
   "execution_count": 22,
   "id": "d0e7c93a",
   "metadata": {},
   "outputs": [],
   "source": [
    "words = set(w2v_model.wv.index_to_key )"
   ]
  },
  {
   "cell_type": "code",
   "execution_count": 23,
   "id": "2b198ccc",
   "metadata": {},
   "outputs": [],
   "source": [
    "# word_vec_dict={}\n",
    "# for word in words:\n",
    "#     word_vec_dict[word]=w2v_model.wv.get_vector(word)\n",
    "# print(\"The no of key-value pairs : \",len(word_vec_dict)) # should come equal to vocab size"
   ]
  },
  {
   "cell_type": "markdown",
   "id": "176b2fca",
   "metadata": {},
   "source": [
    "### Keras Sentence Tokenizer"
   ]
  },
  {
   "cell_type": "code",
   "execution_count": 24,
   "id": "70a79fea",
   "metadata": {},
   "outputs": [],
   "source": [
    "import tensorflow as tf\n",
    "from tensorflow.keras.preprocessing.text import Tokenizer\n",
    "from tensorflow.keras.utils import pad_sequences"
   ]
  },
  {
   "cell_type": "code",
   "execution_count": 25,
   "id": "bacef1ca",
   "metadata": {},
   "outputs": [],
   "source": [
    "tokenizer= Tokenizer(oov_token=\"OOV\")\n",
    "tokenizer.fit_on_texts(df.messages.values)"
   ]
  },
  {
   "cell_type": "code",
   "execution_count": 26,
   "id": "9f40ad51",
   "metadata": {},
   "outputs": [],
   "source": [
    "word_index = tokenizer.word_index"
   ]
  },
  {
   "cell_type": "code",
   "execution_count": 27,
   "id": "44eeb172",
   "metadata": {},
   "outputs": [
    {
     "name": "stdout",
     "output_type": "stream",
     "text": [
      "684\n"
     ]
    }
   ],
   "source": [
    "print(word_index['short'])"
   ]
  },
  {
   "cell_type": "code",
   "execution_count": 28,
   "id": "13308ec4",
   "metadata": {},
   "outputs": [
    {
     "data": {
      "text/plain": [
       "7404"
      ]
     },
     "execution_count": 28,
     "metadata": {},
     "output_type": "execute_result"
    }
   ],
   "source": [
    "len(word_index)"
   ]
  },
  {
   "cell_type": "code",
   "execution_count": 29,
   "id": "e915c538",
   "metadata": {},
   "outputs": [],
   "source": [
    "df['keras_tokens'] = df['messages'].apply(tokenizer.texts_to_sequences)"
   ]
  },
  {
   "cell_type": "code",
   "execution_count": 30,
   "id": "50c9063b",
   "metadata": {},
   "outputs": [
    {
     "data": {
      "text/plain": [
       "list"
      ]
     },
     "execution_count": 30,
     "metadata": {},
     "output_type": "execute_result"
    }
   ],
   "source": [
    "type(df.keras_tokens[0][0])"
   ]
  },
  {
   "cell_type": "code",
   "execution_count": 31,
   "id": "1657ae9c",
   "metadata": {},
   "outputs": [],
   "source": [
    "def traverse(o, tree_types=(list, tuple)):\n",
    "    if isinstance(o, tree_types):\n",
    "        for value in o:\n",
    "            for subvalue in traverse(value, tree_types):\n",
    "                yield subvalue\n",
    "    else:\n",
    "        yield o"
   ]
  },
  {
   "cell_type": "code",
   "execution_count": 32,
   "id": "d7f8bdca",
   "metadata": {},
   "outputs": [
    {
     "data": {
      "text/plain": [
       "[62, 2674, 3, 194, 80, 360, 54, 102, 2156, 3, 143]"
      ]
     },
     "execution_count": 32,
     "metadata": {},
     "output_type": "execute_result"
    }
   ],
   "source": [
    "test_sentence1 = list(traverse(df.keras_tokens[0]))\n",
    "test_sentence1"
   ]
  },
  {
   "cell_type": "code",
   "execution_count": 33,
   "id": "71270895",
   "metadata": {},
   "outputs": [],
   "source": [
    "df['keras_tokens'] = df['keras_tokens'].apply(traverse).apply(list)"
   ]
  },
  {
   "cell_type": "code",
   "execution_count": 34,
   "id": "4608fab9",
   "metadata": {},
   "outputs": [
    {
     "data": {
      "text/html": [
       "<div>\n",
       "<style scoped>\n",
       "    .dataframe tbody tr th:only-of-type {\n",
       "        vertical-align: middle;\n",
       "    }\n",
       "\n",
       "    .dataframe tbody tr th {\n",
       "        vertical-align: top;\n",
       "    }\n",
       "\n",
       "    .dataframe thead th {\n",
       "        text-align: right;\n",
       "    }\n",
       "</style>\n",
       "<table border=\"1\" class=\"dataframe\">\n",
       "  <thead>\n",
       "    <tr style=\"text-align: right;\">\n",
       "      <th></th>\n",
       "      <th>labels</th>\n",
       "      <th>messages</th>\n",
       "      <th>keras_tokens</th>\n",
       "    </tr>\n",
       "  </thead>\n",
       "  <tbody>\n",
       "    <tr>\n",
       "      <th>0</th>\n",
       "      <td>1</td>\n",
       "      <td>[accord, gran, company, no, plan, move, produc...</td>\n",
       "      <td>[62, 2674, 3, 194, 80, 360, 54, 102, 2156, 3, ...</td>\n",
       "    </tr>\n",
       "    <tr>\n",
       "      <th>1</th>\n",
       "      <td>1</td>\n",
       "      <td>[technopoli, plan, develop, stage, area, no, l...</td>\n",
       "      <td>[930, 80, 103, 931, 88, 194, 866, 483, 1282, 3...</td>\n",
       "    </tr>\n",
       "  </tbody>\n",
       "</table>\n",
       "</div>"
      ],
      "text/plain": [
       "   labels                                           messages  \\\n",
       "0       1  [accord, gran, company, no, plan, move, produc...   \n",
       "1       1  [technopoli, plan, develop, stage, area, no, l...   \n",
       "\n",
       "                                        keras_tokens  \n",
       "0  [62, 2674, 3, 194, 80, 360, 54, 102, 2156, 3, ...  \n",
       "1  [930, 80, 103, 931, 88, 194, 866, 483, 1282, 3...  "
      ]
     },
     "execution_count": 34,
     "metadata": {},
     "output_type": "execute_result"
    }
   ],
   "source": [
    "df.head(2)"
   ]
  },
  {
   "cell_type": "markdown",
   "id": "14988770",
   "metadata": {},
   "source": [
    "### Train Test Split"
   ]
  },
  {
   "cell_type": "code",
   "execution_count": 35,
   "id": "29eedf40",
   "metadata": {
    "scrolled": true
   },
   "outputs": [
    {
     "data": {
      "text/html": [
       "<div>\n",
       "<style scoped>\n",
       "    .dataframe tbody tr th:only-of-type {\n",
       "        vertical-align: middle;\n",
       "    }\n",
       "\n",
       "    .dataframe tbody tr th {\n",
       "        vertical-align: top;\n",
       "    }\n",
       "\n",
       "    .dataframe thead th {\n",
       "        text-align: right;\n",
       "    }\n",
       "</style>\n",
       "<table border=\"1\" class=\"dataframe\">\n",
       "  <thead>\n",
       "    <tr style=\"text-align: right;\">\n",
       "      <th></th>\n",
       "      <th>labels</th>\n",
       "      <th>messages</th>\n",
       "      <th>keras_tokens</th>\n",
       "    </tr>\n",
       "  </thead>\n",
       "  <tbody>\n",
       "    <tr>\n",
       "      <th>0</th>\n",
       "      <td>1</td>\n",
       "      <td>[accord, gran, company, no, plan, move, produc...</td>\n",
       "      <td>[62, 2674, 3, 194, 80, 360, 54, 102, 2156, 3, ...</td>\n",
       "    </tr>\n",
       "    <tr>\n",
       "      <th>1</th>\n",
       "      <td>1</td>\n",
       "      <td>[technopoli, plan, develop, stage, area, no, l...</td>\n",
       "      <td>[930, 80, 103, 931, 88, 194, 866, 483, 1282, 3...</td>\n",
       "    </tr>\n",
       "  </tbody>\n",
       "</table>\n",
       "</div>"
      ],
      "text/plain": [
       "   labels                                           messages  \\\n",
       "0       1  [accord, gran, company, no, plan, move, produc...   \n",
       "1       1  [technopoli, plan, develop, stage, area, no, l...   \n",
       "\n",
       "                                        keras_tokens  \n",
       "0  [62, 2674, 3, 194, 80, 360, 54, 102, 2156, 3, ...  \n",
       "1  [930, 80, 103, 931, 88, 194, 866, 483, 1282, 3...  "
      ]
     },
     "execution_count": 35,
     "metadata": {},
     "output_type": "execute_result"
    }
   ],
   "source": [
    "df.head(2)"
   ]
  },
  {
   "cell_type": "code",
   "execution_count": 36,
   "id": "d2386973",
   "metadata": {},
   "outputs": [
    {
     "name": "stdout",
     "output_type": "stream",
     "text": [
      "4846\n"
     ]
    }
   ],
   "source": [
    "print(len(df.keras_tokens.values))"
   ]
  },
  {
   "cell_type": "code",
   "execution_count": 37,
   "id": "c0e9dce7",
   "metadata": {},
   "outputs": [
    {
     "name": "stdout",
     "output_type": "stream",
     "text": [
      "4846\n"
     ]
    }
   ],
   "source": [
    "print(len(df.labels.values))"
   ]
  },
  {
   "cell_type": "code",
   "execution_count": 38,
   "id": "1672577d",
   "metadata": {},
   "outputs": [],
   "source": [
    "X_keras = df.keras_tokens.values\n",
    "y = df.labels.values"
   ]
  },
  {
   "cell_type": "code",
   "execution_count": 39,
   "id": "e2653093",
   "metadata": {},
   "outputs": [
    {
     "name": "stdout",
     "output_type": "stream",
     "text": [
      "(3392,) (1454,)\n"
     ]
    }
   ],
   "source": [
    "X_train_keras, X_test_keras, y_train_keras, y_test_keras = train_test_split(X_keras, y, test_size=.3, random_state=42)\n",
    "\n",
    "\n",
    "print(X_train_keras.shape, X_test_keras.shape)"
   ]
  },
  {
   "cell_type": "markdown",
   "id": "d4318a07",
   "metadata": {},
   "source": [
    "## Pad Sequences"
   ]
  },
  {
   "cell_type": "code",
   "execution_count": 40,
   "id": "16219227",
   "metadata": {},
   "outputs": [],
   "source": [
    "padded_train_seq = pad_sequences(X_train_keras, maxlen=50, padding='post')\n",
    "padded_test_seq = pad_sequences(X_test_keras, maxlen=50, padding='post')"
   ]
  },
  {
   "cell_type": "code",
   "execution_count": 41,
   "id": "1c89a63e",
   "metadata": {},
   "outputs": [
    {
     "name": "stdout",
     "output_type": "stream",
     "text": [
      "(3392, 50)\n",
      "(3392,)\n",
      "(1454, 50)\n",
      "(1454,)\n"
     ]
    }
   ],
   "source": [
    "print(padded_train_seq.shape)\n",
    "print(y_train_keras.shape)\n",
    "print(padded_test_seq.shape)\n",
    "print(y_test_keras.shape)"
   ]
  },
  {
   "cell_type": "markdown",
   "id": "9438dd36",
   "metadata": {},
   "source": [
    "### Basic Sentiment Network Using Word2Vec Embedding Layer"
   ]
  },
  {
   "cell_type": "code",
   "execution_count": 42,
   "id": "5d86b7d3",
   "metadata": {},
   "outputs": [],
   "source": [
    "vocab = w2v_model.wv.key_to_index.keys()\n",
    "embedding_matrix = w2v_model.wv[vocab]"
   ]
  },
  {
   "cell_type": "code",
   "execution_count": 43,
   "id": "9c4c3a1e",
   "metadata": {},
   "outputs": [
    {
     "name": "stdout",
     "output_type": "stream",
     "text": [
      "Model: \"sequential\"\n",
      "_________________________________________________________________\n",
      " Layer (type)                Output Shape              Param #   \n",
      "=================================================================\n",
      " embedding (Embedding)       (None, 50, 300)           4500000   \n",
      "                                                                 \n",
      " global_max_pooling1d (Globa  (None, 300)              0         \n",
      " lMaxPooling1D)                                                  \n",
      "                                                                 \n",
      " dense (Dense)               (None, 60)                18060     \n",
      "                                                                 \n",
      " dense_1 (Dense)             (None, 3)                 183       \n",
      "                                                                 \n",
      "=================================================================\n",
      "Total params: 4,518,243\n",
      "Trainable params: 4,518,243\n",
      "Non-trainable params: 0\n",
      "_________________________________________________________________\n"
     ]
    }
   ],
   "source": [
    "model = tf.keras.Sequential([\n",
    "    Embedding(input_dim=15000,\n",
    "                  output_dim=300,\n",
    "                  input_length=50),\n",
    "    tf.keras.layers.GlobalMaxPooling1D(),\n",
    "    tf.keras.layers.Dense(60, activation='relu'),\n",
    "    tf.keras.layers.Dense(3, activation = tf.nn.softmax)\n",
    "])\n",
    "model.compile(loss='sparse_categorical_crossentropy',optimizer='adam',metrics=['accuracy'])\n",
    "model.summary()"
   ]
  },
  {
   "cell_type": "code",
   "execution_count": 44,
   "id": "a29bde4f",
   "metadata": {},
   "outputs": [
    {
     "data": {
      "text/plain": [
       "3392"
      ]
     },
     "execution_count": 44,
     "metadata": {},
     "output_type": "execute_result"
    }
   ],
   "source": [
    "len(padded_train_seq)"
   ]
  },
  {
   "cell_type": "markdown",
   "id": "71ac1b60",
   "metadata": {},
   "source": [
    "### Run the Model"
   ]
  },
  {
   "cell_type": "code",
   "execution_count": 45,
   "id": "86e70fce",
   "metadata": {},
   "outputs": [
    {
     "name": "stdout",
     "output_type": "stream",
     "text": [
      "Epoch 1/10\n",
      "106/106 [==============================] - 5s 45ms/step - loss: 0.9047 - accuracy: 0.5943 - val_loss: 0.8494 - val_accuracy: 0.5846\n",
      "Epoch 2/10\n",
      "106/106 [==============================] - 5s 43ms/step - loss: 0.6562 - accuracy: 0.7129 - val_loss: 0.6359 - val_accuracy: 0.7387\n",
      "Epoch 3/10\n",
      "106/106 [==============================] - 4s 41ms/step - loss: 0.3177 - accuracy: 0.8906 - val_loss: 0.5965 - val_accuracy: 0.7607\n",
      "Epoch 4/10\n",
      "106/106 [==============================] - 4s 41ms/step - loss: 0.1285 - accuracy: 0.9673 - val_loss: 0.6501 - val_accuracy: 0.7565\n",
      "Epoch 5/10\n",
      "106/106 [==============================] - 4s 37ms/step - loss: 0.0503 - accuracy: 0.9915 - val_loss: 0.6737 - val_accuracy: 0.7600\n",
      "Epoch 6/10\n",
      "106/106 [==============================] - 4s 39ms/step - loss: 0.0249 - accuracy: 0.9959 - val_loss: 0.7093 - val_accuracy: 0.7620\n",
      "Epoch 7/10\n",
      "106/106 [==============================] - 4s 42ms/step - loss: 0.0157 - accuracy: 0.9976 - val_loss: 0.7531 - val_accuracy: 0.7620\n",
      "Epoch 8/10\n",
      "106/106 [==============================] - 4s 37ms/step - loss: 0.0106 - accuracy: 0.9979 - val_loss: 0.7780 - val_accuracy: 0.7641\n",
      "Epoch 9/10\n",
      "106/106 [==============================] - 4s 39ms/step - loss: 0.0086 - accuracy: 0.9979 - val_loss: 0.8063 - val_accuracy: 0.7641\n",
      "Epoch 10/10\n",
      "106/106 [==============================] - 4s 41ms/step - loss: 0.0068 - accuracy: 0.9982 - val_loss: 0.8244 - val_accuracy: 0.7648\n"
     ]
    },
    {
     "data": {
      "text/plain": [
       "<keras.callbacks.History at 0x7f07944ab3d0>"
      ]
     },
     "execution_count": 45,
     "metadata": {},
     "output_type": "execute_result"
    }
   ],
   "source": [
    "num_epochs = 10\n",
    "model.fit(padded_train_seq, y_train_keras, epochs=num_epochs, validation_data=(padded_test_seq, y_test_keras))"
   ]
  },
  {
   "cell_type": "code",
   "execution_count": 46,
   "id": "3d19df05",
   "metadata": {},
   "outputs": [
    {
     "name": "stdout",
     "output_type": "stream",
     "text": [
      "46/46 [==============================] - 0s 2ms/step\n"
     ]
    }
   ],
   "source": [
    "y_pred = model.predict(padded_test_seq)"
   ]
  },
  {
   "cell_type": "code",
   "execution_count": 47,
   "id": "b0f48918",
   "metadata": {},
   "outputs": [],
   "source": [
    "y_pred_max = np.argmax(y_pred, axis=1)"
   ]
  },
  {
   "cell_type": "code",
   "execution_count": 48,
   "id": "4cdf8ea7",
   "metadata": {},
   "outputs": [
    {
     "name": "stdout",
     "output_type": "stream",
     "text": [
      "              precision    recall  f1-score   support\n",
      "\n",
      "           0       0.77      0.66      0.71       179\n",
      "           1       0.80      0.84      0.82       847\n",
      "           2       0.68      0.65      0.67       428\n",
      "\n",
      "    accuracy                           0.76      1454\n",
      "   macro avg       0.75      0.72      0.73      1454\n",
      "weighted avg       0.76      0.76      0.76      1454\n",
      "\n"
     ]
    }
   ],
   "source": [
    "print(classification_report(y_test_keras,y_pred_max, zero_division=0))"
   ]
  },
  {
   "cell_type": "code",
   "execution_count": 49,
   "id": "98014cbf",
   "metadata": {},
   "outputs": [],
   "source": [
    "!nbqa pylint 2_data-wrangling_jeremy_version.ipynb | grep unused"
   ]
  },
  {
   "cell_type": "code",
   "execution_count": 75,
   "id": "81438a67",
   "metadata": {},
   "outputs": [],
   "source": [
    "!pip freeze >> requirements.txt"
   ]
  },
  {
   "cell_type": "code",
   "execution_count": null,
   "id": "f3ec9cf2",
   "metadata": {},
   "outputs": [],
   "source": []
  }
 ],
 "metadata": {
  "kernelspec": {
   "display_name": "Python 3",
   "language": "python",
   "name": "python3"
  },
  "language_info": {
   "codemirror_mode": {
    "name": "ipython",
    "version": 3
   },
   "file_extension": ".py",
   "mimetype": "text/x-python",
   "name": "python",
   "nbconvert_exporter": "python",
   "pygments_lexer": "ipython3",
   "version": "3.8.8"
  }
 },
 "nbformat": 4,
 "nbformat_minor": 5
}
